{
  "nbformat": 4,
  "nbformat_minor": 0,
  "metadata": {
    "colab": {
      "provenance": []
    },
    "kernelspec": {
      "name": "python3",
      "display_name": "Python 3"
    },
    "language_info": {
      "name": "python"
    }
  },
  "cells": [
    {
      "cell_type": "markdown",
      "source": [
        "# 🛠️ Preparação dos Dados"
      ],
      "metadata": {
        "id": "wQ7pPd4EJYOs"
      }
    },
    {
      "cell_type": "markdown",
      "source": [
        "## Extração do Arquivo"
      ],
      "metadata": {
        "id": "sHmx9XnIJaqQ"
      }
    },
    {
      "cell_type": "code",
      "execution_count": 4,
      "metadata": {
        "id": "dXH8uG6LtU9x"
      },
      "outputs": [],
      "source": [
        "import pandas as pd"
      ]
    },
    {
      "cell_type": "code",
      "source": [
        "url = 'https://raw.githubusercontent.com/isenf/telecomx2/refs/heads/main/dados.csv'\n",
        "df = pd.read_csv(url)"
      ],
      "metadata": {
        "id": "oB319bZmtaWr"
      },
      "execution_count": 5,
      "outputs": []
    },
    {
      "cell_type": "code",
      "source": [
        "df.head()"
      ],
      "metadata": {
        "id": "WUE4hBhPteNq",
        "outputId": "10522811-7f07-40e6-99b9-bf73e15ecc9e",
        "colab": {
          "base_uri": "https://localhost:8080/",
          "height": 325
        }
      },
      "execution_count": 6,
      "outputs": [
        {
          "output_type": "execute_result",
          "data": {
            "text/plain": [
              "   customerID Churn customer.gender  customer.SeniorCitizen customer.Partner  \\\n",
              "0  0002-ORFBO    No          Female                       0              Yes   \n",
              "1  0003-MKNFE    No            Male                       0               No   \n",
              "2  0004-TLHLJ   Yes            Male                       0               No   \n",
              "3  0011-IGKFF   Yes            Male                       1              Yes   \n",
              "4  0013-EXCHZ   Yes          Female                       1              Yes   \n",
              "\n",
              "  customer.Dependents  customer.tenure phone.PhoneService phone.MultipleLines  \\\n",
              "0                 Yes                9                Yes                  No   \n",
              "1                  No                9                Yes                 Yes   \n",
              "2                  No                4                Yes                  No   \n",
              "3                  No               13                Yes                  No   \n",
              "4                  No                3                Yes                  No   \n",
              "\n",
              "  internet.InternetService  ... internet.DeviceProtection  \\\n",
              "0                      DSL  ...                        No   \n",
              "1                      DSL  ...                        No   \n",
              "2              Fiber optic  ...                       Yes   \n",
              "3              Fiber optic  ...                       Yes   \n",
              "4              Fiber optic  ...                        No   \n",
              "\n",
              "  internet.TechSupport internet.StreamingTV internet.StreamingMovies  \\\n",
              "0                  Yes                  Yes                       No   \n",
              "1                   No                   No                      Yes   \n",
              "2                   No                   No                       No   \n",
              "3                   No                  Yes                      Yes   \n",
              "4                  Yes                  Yes                       No   \n",
              "\n",
              "  account.Contract account.PaperlessBilling account.PaymentMethod Total.Day  \\\n",
              "0         One year                      Yes          Mailed check      2.20   \n",
              "1   Month-to-month                       No          Mailed check      2.01   \n",
              "2   Month-to-month                      Yes      Electronic check      2.34   \n",
              "3   Month-to-month                      Yes      Electronic check      3.17   \n",
              "4   Month-to-month                      Yes          Mailed check      2.97   \n",
              "\n",
              "  account.Charges.Monthly  account.Charges.Total  \n",
              "0                    65.6                 593.30  \n",
              "1                    59.9                 542.40  \n",
              "2                    73.9                 280.85  \n",
              "3                    98.0                1237.85  \n",
              "4                    83.9                 267.40  \n",
              "\n",
              "[5 rows x 22 columns]"
            ],
            "text/html": [
              "\n",
              "  <div id=\"df-60b4a539-1054-4ee6-8c8f-aec5785f8718\" class=\"colab-df-container\">\n",
              "    <div>\n",
              "<style scoped>\n",
              "    .dataframe tbody tr th:only-of-type {\n",
              "        vertical-align: middle;\n",
              "    }\n",
              "\n",
              "    .dataframe tbody tr th {\n",
              "        vertical-align: top;\n",
              "    }\n",
              "\n",
              "    .dataframe thead th {\n",
              "        text-align: right;\n",
              "    }\n",
              "</style>\n",
              "<table border=\"1\" class=\"dataframe\">\n",
              "  <thead>\n",
              "    <tr style=\"text-align: right;\">\n",
              "      <th></th>\n",
              "      <th>customerID</th>\n",
              "      <th>Churn</th>\n",
              "      <th>customer.gender</th>\n",
              "      <th>customer.SeniorCitizen</th>\n",
              "      <th>customer.Partner</th>\n",
              "      <th>customer.Dependents</th>\n",
              "      <th>customer.tenure</th>\n",
              "      <th>phone.PhoneService</th>\n",
              "      <th>phone.MultipleLines</th>\n",
              "      <th>internet.InternetService</th>\n",
              "      <th>...</th>\n",
              "      <th>internet.DeviceProtection</th>\n",
              "      <th>internet.TechSupport</th>\n",
              "      <th>internet.StreamingTV</th>\n",
              "      <th>internet.StreamingMovies</th>\n",
              "      <th>account.Contract</th>\n",
              "      <th>account.PaperlessBilling</th>\n",
              "      <th>account.PaymentMethod</th>\n",
              "      <th>Total.Day</th>\n",
              "      <th>account.Charges.Monthly</th>\n",
              "      <th>account.Charges.Total</th>\n",
              "    </tr>\n",
              "  </thead>\n",
              "  <tbody>\n",
              "    <tr>\n",
              "      <th>0</th>\n",
              "      <td>0002-ORFBO</td>\n",
              "      <td>No</td>\n",
              "      <td>Female</td>\n",
              "      <td>0</td>\n",
              "      <td>Yes</td>\n",
              "      <td>Yes</td>\n",
              "      <td>9</td>\n",
              "      <td>Yes</td>\n",
              "      <td>No</td>\n",
              "      <td>DSL</td>\n",
              "      <td>...</td>\n",
              "      <td>No</td>\n",
              "      <td>Yes</td>\n",
              "      <td>Yes</td>\n",
              "      <td>No</td>\n",
              "      <td>One year</td>\n",
              "      <td>Yes</td>\n",
              "      <td>Mailed check</td>\n",
              "      <td>2.20</td>\n",
              "      <td>65.6</td>\n",
              "      <td>593.30</td>\n",
              "    </tr>\n",
              "    <tr>\n",
              "      <th>1</th>\n",
              "      <td>0003-MKNFE</td>\n",
              "      <td>No</td>\n",
              "      <td>Male</td>\n",
              "      <td>0</td>\n",
              "      <td>No</td>\n",
              "      <td>No</td>\n",
              "      <td>9</td>\n",
              "      <td>Yes</td>\n",
              "      <td>Yes</td>\n",
              "      <td>DSL</td>\n",
              "      <td>...</td>\n",
              "      <td>No</td>\n",
              "      <td>No</td>\n",
              "      <td>No</td>\n",
              "      <td>Yes</td>\n",
              "      <td>Month-to-month</td>\n",
              "      <td>No</td>\n",
              "      <td>Mailed check</td>\n",
              "      <td>2.01</td>\n",
              "      <td>59.9</td>\n",
              "      <td>542.40</td>\n",
              "    </tr>\n",
              "    <tr>\n",
              "      <th>2</th>\n",
              "      <td>0004-TLHLJ</td>\n",
              "      <td>Yes</td>\n",
              "      <td>Male</td>\n",
              "      <td>0</td>\n",
              "      <td>No</td>\n",
              "      <td>No</td>\n",
              "      <td>4</td>\n",
              "      <td>Yes</td>\n",
              "      <td>No</td>\n",
              "      <td>Fiber optic</td>\n",
              "      <td>...</td>\n",
              "      <td>Yes</td>\n",
              "      <td>No</td>\n",
              "      <td>No</td>\n",
              "      <td>No</td>\n",
              "      <td>Month-to-month</td>\n",
              "      <td>Yes</td>\n",
              "      <td>Electronic check</td>\n",
              "      <td>2.34</td>\n",
              "      <td>73.9</td>\n",
              "      <td>280.85</td>\n",
              "    </tr>\n",
              "    <tr>\n",
              "      <th>3</th>\n",
              "      <td>0011-IGKFF</td>\n",
              "      <td>Yes</td>\n",
              "      <td>Male</td>\n",
              "      <td>1</td>\n",
              "      <td>Yes</td>\n",
              "      <td>No</td>\n",
              "      <td>13</td>\n",
              "      <td>Yes</td>\n",
              "      <td>No</td>\n",
              "      <td>Fiber optic</td>\n",
              "      <td>...</td>\n",
              "      <td>Yes</td>\n",
              "      <td>No</td>\n",
              "      <td>Yes</td>\n",
              "      <td>Yes</td>\n",
              "      <td>Month-to-month</td>\n",
              "      <td>Yes</td>\n",
              "      <td>Electronic check</td>\n",
              "      <td>3.17</td>\n",
              "      <td>98.0</td>\n",
              "      <td>1237.85</td>\n",
              "    </tr>\n",
              "    <tr>\n",
              "      <th>4</th>\n",
              "      <td>0013-EXCHZ</td>\n",
              "      <td>Yes</td>\n",
              "      <td>Female</td>\n",
              "      <td>1</td>\n",
              "      <td>Yes</td>\n",
              "      <td>No</td>\n",
              "      <td>3</td>\n",
              "      <td>Yes</td>\n",
              "      <td>No</td>\n",
              "      <td>Fiber optic</td>\n",
              "      <td>...</td>\n",
              "      <td>No</td>\n",
              "      <td>Yes</td>\n",
              "      <td>Yes</td>\n",
              "      <td>No</td>\n",
              "      <td>Month-to-month</td>\n",
              "      <td>Yes</td>\n",
              "      <td>Mailed check</td>\n",
              "      <td>2.97</td>\n",
              "      <td>83.9</td>\n",
              "      <td>267.40</td>\n",
              "    </tr>\n",
              "  </tbody>\n",
              "</table>\n",
              "<p>5 rows × 22 columns</p>\n",
              "</div>\n",
              "    <div class=\"colab-df-buttons\">\n",
              "\n",
              "  <div class=\"colab-df-container\">\n",
              "    <button class=\"colab-df-convert\" onclick=\"convertToInteractive('df-60b4a539-1054-4ee6-8c8f-aec5785f8718')\"\n",
              "            title=\"Convert this dataframe to an interactive table.\"\n",
              "            style=\"display:none;\">\n",
              "\n",
              "  <svg xmlns=\"http://www.w3.org/2000/svg\" height=\"24px\" viewBox=\"0 -960 960 960\">\n",
              "    <path d=\"M120-120v-720h720v720H120Zm60-500h600v-160H180v160Zm220 220h160v-160H400v160Zm0 220h160v-160H400v160ZM180-400h160v-160H180v160Zm440 0h160v-160H620v160ZM180-180h160v-160H180v160Zm440 0h160v-160H620v160Z\"/>\n",
              "  </svg>\n",
              "    </button>\n",
              "\n",
              "  <style>\n",
              "    .colab-df-container {\n",
              "      display:flex;\n",
              "      gap: 12px;\n",
              "    }\n",
              "\n",
              "    .colab-df-convert {\n",
              "      background-color: #E8F0FE;\n",
              "      border: none;\n",
              "      border-radius: 50%;\n",
              "      cursor: pointer;\n",
              "      display: none;\n",
              "      fill: #1967D2;\n",
              "      height: 32px;\n",
              "      padding: 0 0 0 0;\n",
              "      width: 32px;\n",
              "    }\n",
              "\n",
              "    .colab-df-convert:hover {\n",
              "      background-color: #E2EBFA;\n",
              "      box-shadow: 0px 1px 2px rgba(60, 64, 67, 0.3), 0px 1px 3px 1px rgba(60, 64, 67, 0.15);\n",
              "      fill: #174EA6;\n",
              "    }\n",
              "\n",
              "    .colab-df-buttons div {\n",
              "      margin-bottom: 4px;\n",
              "    }\n",
              "\n",
              "    [theme=dark] .colab-df-convert {\n",
              "      background-color: #3B4455;\n",
              "      fill: #D2E3FC;\n",
              "    }\n",
              "\n",
              "    [theme=dark] .colab-df-convert:hover {\n",
              "      background-color: #434B5C;\n",
              "      box-shadow: 0px 1px 3px 1px rgba(0, 0, 0, 0.15);\n",
              "      filter: drop-shadow(0px 1px 2px rgba(0, 0, 0, 0.3));\n",
              "      fill: #FFFFFF;\n",
              "    }\n",
              "  </style>\n",
              "\n",
              "    <script>\n",
              "      const buttonEl =\n",
              "        document.querySelector('#df-60b4a539-1054-4ee6-8c8f-aec5785f8718 button.colab-df-convert');\n",
              "      buttonEl.style.display =\n",
              "        google.colab.kernel.accessAllowed ? 'block' : 'none';\n",
              "\n",
              "      async function convertToInteractive(key) {\n",
              "        const element = document.querySelector('#df-60b4a539-1054-4ee6-8c8f-aec5785f8718');\n",
              "        const dataTable =\n",
              "          await google.colab.kernel.invokeFunction('convertToInteractive',\n",
              "                                                    [key], {});\n",
              "        if (!dataTable) return;\n",
              "\n",
              "        const docLinkHtml = 'Like what you see? Visit the ' +\n",
              "          '<a target=\"_blank\" href=https://colab.research.google.com/notebooks/data_table.ipynb>data table notebook</a>'\n",
              "          + ' to learn more about interactive tables.';\n",
              "        element.innerHTML = '';\n",
              "        dataTable['output_type'] = 'display_data';\n",
              "        await google.colab.output.renderOutput(dataTable, element);\n",
              "        const docLink = document.createElement('div');\n",
              "        docLink.innerHTML = docLinkHtml;\n",
              "        element.appendChild(docLink);\n",
              "      }\n",
              "    </script>\n",
              "  </div>\n",
              "\n",
              "\n",
              "    <div id=\"df-bf265ebf-a557-4446-8a74-77de06948ac4\">\n",
              "      <button class=\"colab-df-quickchart\" onclick=\"quickchart('df-bf265ebf-a557-4446-8a74-77de06948ac4')\"\n",
              "                title=\"Suggest charts\"\n",
              "                style=\"display:none;\">\n",
              "\n",
              "<svg xmlns=\"http://www.w3.org/2000/svg\" height=\"24px\"viewBox=\"0 0 24 24\"\n",
              "     width=\"24px\">\n",
              "    <g>\n",
              "        <path d=\"M19 3H5c-1.1 0-2 .9-2 2v14c0 1.1.9 2 2 2h14c1.1 0 2-.9 2-2V5c0-1.1-.9-2-2-2zM9 17H7v-7h2v7zm4 0h-2V7h2v10zm4 0h-2v-4h2v4z\"/>\n",
              "    </g>\n",
              "</svg>\n",
              "      </button>\n",
              "\n",
              "<style>\n",
              "  .colab-df-quickchart {\n",
              "      --bg-color: #E8F0FE;\n",
              "      --fill-color: #1967D2;\n",
              "      --hover-bg-color: #E2EBFA;\n",
              "      --hover-fill-color: #174EA6;\n",
              "      --disabled-fill-color: #AAA;\n",
              "      --disabled-bg-color: #DDD;\n",
              "  }\n",
              "\n",
              "  [theme=dark] .colab-df-quickchart {\n",
              "      --bg-color: #3B4455;\n",
              "      --fill-color: #D2E3FC;\n",
              "      --hover-bg-color: #434B5C;\n",
              "      --hover-fill-color: #FFFFFF;\n",
              "      --disabled-bg-color: #3B4455;\n",
              "      --disabled-fill-color: #666;\n",
              "  }\n",
              "\n",
              "  .colab-df-quickchart {\n",
              "    background-color: var(--bg-color);\n",
              "    border: none;\n",
              "    border-radius: 50%;\n",
              "    cursor: pointer;\n",
              "    display: none;\n",
              "    fill: var(--fill-color);\n",
              "    height: 32px;\n",
              "    padding: 0;\n",
              "    width: 32px;\n",
              "  }\n",
              "\n",
              "  .colab-df-quickchart:hover {\n",
              "    background-color: var(--hover-bg-color);\n",
              "    box-shadow: 0 1px 2px rgba(60, 64, 67, 0.3), 0 1px 3px 1px rgba(60, 64, 67, 0.15);\n",
              "    fill: var(--button-hover-fill-color);\n",
              "  }\n",
              "\n",
              "  .colab-df-quickchart-complete:disabled,\n",
              "  .colab-df-quickchart-complete:disabled:hover {\n",
              "    background-color: var(--disabled-bg-color);\n",
              "    fill: var(--disabled-fill-color);\n",
              "    box-shadow: none;\n",
              "  }\n",
              "\n",
              "  .colab-df-spinner {\n",
              "    border: 2px solid var(--fill-color);\n",
              "    border-color: transparent;\n",
              "    border-bottom-color: var(--fill-color);\n",
              "    animation:\n",
              "      spin 1s steps(1) infinite;\n",
              "  }\n",
              "\n",
              "  @keyframes spin {\n",
              "    0% {\n",
              "      border-color: transparent;\n",
              "      border-bottom-color: var(--fill-color);\n",
              "      border-left-color: var(--fill-color);\n",
              "    }\n",
              "    20% {\n",
              "      border-color: transparent;\n",
              "      border-left-color: var(--fill-color);\n",
              "      border-top-color: var(--fill-color);\n",
              "    }\n",
              "    30% {\n",
              "      border-color: transparent;\n",
              "      border-left-color: var(--fill-color);\n",
              "      border-top-color: var(--fill-color);\n",
              "      border-right-color: var(--fill-color);\n",
              "    }\n",
              "    40% {\n",
              "      border-color: transparent;\n",
              "      border-right-color: var(--fill-color);\n",
              "      border-top-color: var(--fill-color);\n",
              "    }\n",
              "    60% {\n",
              "      border-color: transparent;\n",
              "      border-right-color: var(--fill-color);\n",
              "    }\n",
              "    80% {\n",
              "      border-color: transparent;\n",
              "      border-right-color: var(--fill-color);\n",
              "      border-bottom-color: var(--fill-color);\n",
              "    }\n",
              "    90% {\n",
              "      border-color: transparent;\n",
              "      border-bottom-color: var(--fill-color);\n",
              "    }\n",
              "  }\n",
              "</style>\n",
              "\n",
              "      <script>\n",
              "        async function quickchart(key) {\n",
              "          const quickchartButtonEl =\n",
              "            document.querySelector('#' + key + ' button');\n",
              "          quickchartButtonEl.disabled = true;  // To prevent multiple clicks.\n",
              "          quickchartButtonEl.classList.add('colab-df-spinner');\n",
              "          try {\n",
              "            const charts = await google.colab.kernel.invokeFunction(\n",
              "                'suggestCharts', [key], {});\n",
              "          } catch (error) {\n",
              "            console.error('Error during call to suggestCharts:', error);\n",
              "          }\n",
              "          quickchartButtonEl.classList.remove('colab-df-spinner');\n",
              "          quickchartButtonEl.classList.add('colab-df-quickchart-complete');\n",
              "        }\n",
              "        (() => {\n",
              "          let quickchartButtonEl =\n",
              "            document.querySelector('#df-bf265ebf-a557-4446-8a74-77de06948ac4 button');\n",
              "          quickchartButtonEl.style.display =\n",
              "            google.colab.kernel.accessAllowed ? 'block' : 'none';\n",
              "        })();\n",
              "      </script>\n",
              "    </div>\n",
              "\n",
              "    </div>\n",
              "  </div>\n"
            ],
            "application/vnd.google.colaboratory.intrinsic+json": {
              "type": "dataframe",
              "variable_name": "df"
            }
          },
          "metadata": {},
          "execution_count": 6
        }
      ]
    },
    {
      "cell_type": "markdown",
      "source": [
        "## Remoção de Colunas Irrelevantes"
      ],
      "metadata": {
        "id": "c0kW9yixJhUX"
      }
    },
    {
      "cell_type": "code",
      "source": [
        "df.columns"
      ],
      "metadata": {
        "id": "dD4FWgkstfW2",
        "colab": {
          "base_uri": "https://localhost:8080/"
        },
        "outputId": "020f0ed8-2537-4e9c-f270-6818a6eb217c"
      },
      "execution_count": 7,
      "outputs": [
        {
          "output_type": "execute_result",
          "data": {
            "text/plain": [
              "Index(['customerID', 'Churn', 'customer.gender', 'customer.SeniorCitizen',\n",
              "       'customer.Partner', 'customer.Dependents', 'customer.tenure',\n",
              "       'phone.PhoneService', 'phone.MultipleLines', 'internet.InternetService',\n",
              "       'internet.OnlineSecurity', 'internet.OnlineBackup',\n",
              "       'internet.DeviceProtection', 'internet.TechSupport',\n",
              "       'internet.StreamingTV', 'internet.StreamingMovies', 'account.Contract',\n",
              "       'account.PaperlessBilling', 'account.PaymentMethod', 'Total.Day',\n",
              "       'account.Charges.Monthly', 'account.Charges.Total'],\n",
              "      dtype='object')"
            ]
          },
          "metadata": {},
          "execution_count": 7
        }
      ]
    },
    {
      "cell_type": "code",
      "source": [
        "df = df.drop(['customerID', \"Total.Day\"], axis = 1)"
      ],
      "metadata": {
        "id": "8I4WvtItIuFO"
      },
      "execution_count": 8,
      "outputs": []
    },
    {
      "cell_type": "markdown",
      "source": [
        "## Encoding"
      ],
      "metadata": {
        "id": "WrrynxkKMakb"
      }
    },
    {
      "cell_type": "code",
      "source": [
        "for col in df.columns:\n",
        "  print(f\"{col}  ->  {df[col].unique()}\")"
      ],
      "metadata": {
        "colab": {
          "base_uri": "https://localhost:8080/"
        },
        "id": "NHlp1vviLIej",
        "outputId": "6608b3a6-8452-4799-9924-aa3e2d3788e8"
      },
      "execution_count": 9,
      "outputs": [
        {
          "output_type": "stream",
          "name": "stdout",
          "text": [
            "Churn  ->  ['No' 'Yes']\n",
            "customer.gender  ->  ['Female' 'Male']\n",
            "customer.SeniorCitizen  ->  [0 1]\n",
            "customer.Partner  ->  ['Yes' 'No']\n",
            "customer.Dependents  ->  ['Yes' 'No']\n",
            "customer.tenure  ->  [ 9  4 13  3 71 63  7 65 54 72  5 56 34  1 45 50 23 55 26 69 37 49 66 67\n",
            " 20 43 59 12 27  2 25 29 14 35 64 39 40 11  6 30 70 57 58 16 32 33 10 21\n",
            " 61 15 44 22 24 19 47 62 46 52  8 60 48 28 41 53 68 31 36 17 18 51 38 42\n",
            "  0]\n",
            "phone.PhoneService  ->  ['Yes' 'No']\n",
            "phone.MultipleLines  ->  ['No' 'Yes' 'No phone service']\n",
            "internet.InternetService  ->  ['DSL' 'Fiber optic' 'No']\n",
            "internet.OnlineSecurity  ->  ['No' 'Yes' 'No internet service']\n",
            "internet.OnlineBackup  ->  ['Yes' 'No' 'No internet service']\n",
            "internet.DeviceProtection  ->  ['No' 'Yes' 'No internet service']\n",
            "internet.TechSupport  ->  ['Yes' 'No' 'No internet service']\n",
            "internet.StreamingTV  ->  ['Yes' 'No' 'No internet service']\n",
            "internet.StreamingMovies  ->  ['No' 'Yes' 'No internet service']\n",
            "account.Contract  ->  ['One year' 'Month-to-month' 'Two year']\n",
            "account.PaperlessBilling  ->  ['Yes' 'No']\n",
            "account.PaymentMethod  ->  ['Mailed check' 'Electronic check' 'Credit card (automatic)'\n",
            " 'Bank transfer (automatic)']\n",
            "account.Charges.Monthly  ->  [65.6  59.9  73.9  ... 91.75 68.8  67.85]\n",
            "account.Charges.Total  ->  [ 593.3   542.4   280.85 ...  742.9  4627.65 3707.6 ]\n"
          ]
        }
      ]
    },
    {
      "cell_type": "code",
      "source": [
        "df['customer.gender'] = df['customer.gender'].map({'Female': 0, 'Male': 1})"
      ],
      "metadata": {
        "id": "XM6jy4YpwpZW"
      },
      "execution_count": 10,
      "outputs": []
    },
    {
      "cell_type": "code",
      "source": [
        "col_binarias = ['Churn', 'customer.Partner', 'customer.Dependents', 'phone.PhoneService','account.PaperlessBilling']\n",
        "\n",
        "for col in col_binarias:\n",
        "  df[col] = df[col].map({'Yes': 1, 'No': 0})"
      ],
      "metadata": {
        "id": "E0eMb04VORTF"
      },
      "execution_count": 11,
      "outputs": []
    },
    {
      "cell_type": "code",
      "source": [
        "from sklearn.compose import ColumnTransformer\n",
        "from sklearn.preprocessing import OneHotEncoder"
      ],
      "metadata": {
        "id": "AUSbkDuxxZck"
      },
      "execution_count": 12,
      "outputs": []
    },
    {
      "cell_type": "code",
      "source": [
        "col_categoricas = ['phone.MultipleLines', 'internet.InternetService', 'internet.OnlineSecurity', 'internet.OnlineBackup', 'internet.DeviceProtection',\n",
        "                   'internet.TechSupport', 'internet.StreamingTV', 'internet.StreamingMovies', 'account.Contract', 'account.PaymentMethod']"
      ],
      "metadata": {
        "id": "vLtGr2IDwKsR"
      },
      "execution_count": 13,
      "outputs": []
    },
    {
      "cell_type": "code",
      "source": [
        "pre_processador = ColumnTransformer(\n",
        "    [('onehot', OneHotEncoder(handle_unknown='ignore', sparse_output=False), col_categoricas)],\n",
        "    remainder='passthrough'\n",
        ")"
      ],
      "metadata": {
        "id": "hvFCjnQKy_Hg"
      },
      "execution_count": 14,
      "outputs": []
    },
    {
      "cell_type": "code",
      "source": [
        "dados_transformados = pre_processador.fit_transform(df)"
      ],
      "metadata": {
        "id": "ZC5qCYTEzyDC"
      },
      "execution_count": 15,
      "outputs": []
    },
    {
      "cell_type": "code",
      "source": [
        "col_novas = pre_processador.get_feature_names_out()\n",
        "col_novas"
      ],
      "metadata": {
        "colab": {
          "base_uri": "https://localhost:8080/"
        },
        "id": "Fj-k31gdz54D",
        "outputId": "8ac51ad6-a224-4b41-eba3-e8ca1d580ff9"
      },
      "execution_count": 16,
      "outputs": [
        {
          "output_type": "execute_result",
          "data": {
            "text/plain": [
              "array(['onehot__phone.MultipleLines_No',\n",
              "       'onehot__phone.MultipleLines_No phone service',\n",
              "       'onehot__phone.MultipleLines_Yes',\n",
              "       'onehot__internet.InternetService_DSL',\n",
              "       'onehot__internet.InternetService_Fiber optic',\n",
              "       'onehot__internet.InternetService_No',\n",
              "       'onehot__internet.OnlineSecurity_No',\n",
              "       'onehot__internet.OnlineSecurity_No internet service',\n",
              "       'onehot__internet.OnlineSecurity_Yes',\n",
              "       'onehot__internet.OnlineBackup_No',\n",
              "       'onehot__internet.OnlineBackup_No internet service',\n",
              "       'onehot__internet.OnlineBackup_Yes',\n",
              "       'onehot__internet.DeviceProtection_No',\n",
              "       'onehot__internet.DeviceProtection_No internet service',\n",
              "       'onehot__internet.DeviceProtection_Yes',\n",
              "       'onehot__internet.TechSupport_No',\n",
              "       'onehot__internet.TechSupport_No internet service',\n",
              "       'onehot__internet.TechSupport_Yes',\n",
              "       'onehot__internet.StreamingTV_No',\n",
              "       'onehot__internet.StreamingTV_No internet service',\n",
              "       'onehot__internet.StreamingTV_Yes',\n",
              "       'onehot__internet.StreamingMovies_No',\n",
              "       'onehot__internet.StreamingMovies_No internet service',\n",
              "       'onehot__internet.StreamingMovies_Yes',\n",
              "       'onehot__account.Contract_Month-to-month',\n",
              "       'onehot__account.Contract_One year',\n",
              "       'onehot__account.Contract_Two year',\n",
              "       'onehot__account.PaymentMethod_Bank transfer (automatic)',\n",
              "       'onehot__account.PaymentMethod_Credit card (automatic)',\n",
              "       'onehot__account.PaymentMethod_Electronic check',\n",
              "       'onehot__account.PaymentMethod_Mailed check', 'remainder__Churn',\n",
              "       'remainder__customer.gender', 'remainder__customer.SeniorCitizen',\n",
              "       'remainder__customer.Partner', 'remainder__customer.Dependents',\n",
              "       'remainder__customer.tenure', 'remainder__phone.PhoneService',\n",
              "       'remainder__account.PaperlessBilling',\n",
              "       'remainder__account.Charges.Monthly',\n",
              "       'remainder__account.Charges.Total'], dtype=object)"
            ]
          },
          "metadata": {},
          "execution_count": 16
        }
      ]
    },
    {
      "cell_type": "code",
      "source": [
        "df_final = pd.DataFrame(dados_transformados, columns=col_novas)"
      ],
      "metadata": {
        "id": "oEn8XdIY0Osw"
      },
      "execution_count": 17,
      "outputs": []
    },
    {
      "cell_type": "code",
      "source": [
        "df_final.shape"
      ],
      "metadata": {
        "colab": {
          "base_uri": "https://localhost:8080/"
        },
        "id": "EAiiRjMI0cG_",
        "outputId": "6a390163-d484-4983-c57b-2e2b871f6e66"
      },
      "execution_count": 18,
      "outputs": [
        {
          "output_type": "execute_result",
          "data": {
            "text/plain": [
              "(7043, 41)"
            ]
          },
          "metadata": {},
          "execution_count": 18
        }
      ]
    },
    {
      "cell_type": "code",
      "source": [
        "for col in df_final.columns:\n",
        "  print(f\"{col}  ->  {df_final[col].unique()}\")"
      ],
      "metadata": {
        "colab": {
          "base_uri": "https://localhost:8080/"
        },
        "id": "sYovtkXE0k4v",
        "outputId": "850fbfa2-af73-4a1e-9af7-00e74a5752f1"
      },
      "execution_count": 19,
      "outputs": [
        {
          "output_type": "stream",
          "name": "stdout",
          "text": [
            "onehot__phone.MultipleLines_No  ->  [1. 0.]\n",
            "onehot__phone.MultipleLines_No phone service  ->  [0. 1.]\n",
            "onehot__phone.MultipleLines_Yes  ->  [0. 1.]\n",
            "onehot__internet.InternetService_DSL  ->  [1. 0.]\n",
            "onehot__internet.InternetService_Fiber optic  ->  [0. 1.]\n",
            "onehot__internet.InternetService_No  ->  [0. 1.]\n",
            "onehot__internet.OnlineSecurity_No  ->  [1. 0.]\n",
            "onehot__internet.OnlineSecurity_No internet service  ->  [0. 1.]\n",
            "onehot__internet.OnlineSecurity_Yes  ->  [0. 1.]\n",
            "onehot__internet.OnlineBackup_No  ->  [0. 1.]\n",
            "onehot__internet.OnlineBackup_No internet service  ->  [0. 1.]\n",
            "onehot__internet.OnlineBackup_Yes  ->  [1. 0.]\n",
            "onehot__internet.DeviceProtection_No  ->  [1. 0.]\n",
            "onehot__internet.DeviceProtection_No internet service  ->  [0. 1.]\n",
            "onehot__internet.DeviceProtection_Yes  ->  [0. 1.]\n",
            "onehot__internet.TechSupport_No  ->  [0. 1.]\n",
            "onehot__internet.TechSupport_No internet service  ->  [0. 1.]\n",
            "onehot__internet.TechSupport_Yes  ->  [1. 0.]\n",
            "onehot__internet.StreamingTV_No  ->  [0. 1.]\n",
            "onehot__internet.StreamingTV_No internet service  ->  [0. 1.]\n",
            "onehot__internet.StreamingTV_Yes  ->  [1. 0.]\n",
            "onehot__internet.StreamingMovies_No  ->  [1. 0.]\n",
            "onehot__internet.StreamingMovies_No internet service  ->  [0. 1.]\n",
            "onehot__internet.StreamingMovies_Yes  ->  [0. 1.]\n",
            "onehot__account.Contract_Month-to-month  ->  [0. 1.]\n",
            "onehot__account.Contract_One year  ->  [1. 0.]\n",
            "onehot__account.Contract_Two year  ->  [0. 1.]\n",
            "onehot__account.PaymentMethod_Bank transfer (automatic)  ->  [0. 1.]\n",
            "onehot__account.PaymentMethod_Credit card (automatic)  ->  [0. 1.]\n",
            "onehot__account.PaymentMethod_Electronic check  ->  [0. 1.]\n",
            "onehot__account.PaymentMethod_Mailed check  ->  [1. 0.]\n",
            "remainder__Churn  ->  [0. 1.]\n",
            "remainder__customer.gender  ->  [0. 1.]\n",
            "remainder__customer.SeniorCitizen  ->  [0. 1.]\n",
            "remainder__customer.Partner  ->  [1. 0.]\n",
            "remainder__customer.Dependents  ->  [1. 0.]\n",
            "remainder__customer.tenure  ->  [ 9.  4. 13.  3. 71. 63.  7. 65. 54. 72.  5. 56. 34.  1. 45. 50. 23. 55.\n",
            " 26. 69. 37. 49. 66. 67. 20. 43. 59. 12. 27.  2. 25. 29. 14. 35. 64. 39.\n",
            " 40. 11.  6. 30. 70. 57. 58. 16. 32. 33. 10. 21. 61. 15. 44. 22. 24. 19.\n",
            " 47. 62. 46. 52.  8. 60. 48. 28. 41. 53. 68. 31. 36. 17. 18. 51. 38. 42.\n",
            "  0.]\n",
            "remainder__phone.PhoneService  ->  [1. 0.]\n",
            "remainder__account.PaperlessBilling  ->  [1. 0.]\n",
            "remainder__account.Charges.Monthly  ->  [65.6  59.9  73.9  ... 91.75 68.8  67.85]\n",
            "remainder__account.Charges.Total  ->  [ 593.3   542.4   280.85 ...  742.9  4627.65 3707.6 ]\n"
          ]
        }
      ]
    },
    {
      "cell_type": "code",
      "source": [
        "df_final.info()"
      ],
      "metadata": {
        "colab": {
          "base_uri": "https://localhost:8080/"
        },
        "id": "coIS_2PH2SJx",
        "outputId": "a1bf689d-18b7-473e-d22c-cc2f4c59b3c2"
      },
      "execution_count": 30,
      "outputs": [
        {
          "output_type": "stream",
          "name": "stdout",
          "text": [
            "<class 'pandas.core.frame.DataFrame'>\n",
            "Index: 7032 entries, 0 to 7042\n",
            "Data columns (total 41 columns):\n",
            " #   Column                                                   Non-Null Count  Dtype  \n",
            "---  ------                                                   --------------  -----  \n",
            " 0   onehot__phone.MultipleLines_No                           7032 non-null   int64  \n",
            " 1   onehot__phone.MultipleLines_No phone service             7032 non-null   int64  \n",
            " 2   onehot__phone.MultipleLines_Yes                          7032 non-null   int64  \n",
            " 3   onehot__internet.InternetService_DSL                     7032 non-null   int64  \n",
            " 4   onehot__internet.InternetService_Fiber optic             7032 non-null   int64  \n",
            " 5   onehot__internet.InternetService_No                      7032 non-null   int64  \n",
            " 6   onehot__internet.OnlineSecurity_No                       7032 non-null   int64  \n",
            " 7   onehot__internet.OnlineSecurity_No internet service      7032 non-null   int64  \n",
            " 8   onehot__internet.OnlineSecurity_Yes                      7032 non-null   int64  \n",
            " 9   onehot__internet.OnlineBackup_No                         7032 non-null   int64  \n",
            " 10  onehot__internet.OnlineBackup_No internet service        7032 non-null   int64  \n",
            " 11  onehot__internet.OnlineBackup_Yes                        7032 non-null   int64  \n",
            " 12  onehot__internet.DeviceProtection_No                     7032 non-null   int64  \n",
            " 13  onehot__internet.DeviceProtection_No internet service    7032 non-null   int64  \n",
            " 14  onehot__internet.DeviceProtection_Yes                    7032 non-null   int64  \n",
            " 15  onehot__internet.TechSupport_No                          7032 non-null   int64  \n",
            " 16  onehot__internet.TechSupport_No internet service         7032 non-null   int64  \n",
            " 17  onehot__internet.TechSupport_Yes                         7032 non-null   int64  \n",
            " 18  onehot__internet.StreamingTV_No                          7032 non-null   int64  \n",
            " 19  onehot__internet.StreamingTV_No internet service         7032 non-null   int64  \n",
            " 20  onehot__internet.StreamingTV_Yes                         7032 non-null   int64  \n",
            " 21  onehot__internet.StreamingMovies_No                      7032 non-null   int64  \n",
            " 22  onehot__internet.StreamingMovies_No internet service     7032 non-null   int64  \n",
            " 23  onehot__internet.StreamingMovies_Yes                     7032 non-null   int64  \n",
            " 24  onehot__account.Contract_Month-to-month                  7032 non-null   int64  \n",
            " 25  onehot__account.Contract_One year                        7032 non-null   int64  \n",
            " 26  onehot__account.Contract_Two year                        7032 non-null   int64  \n",
            " 27  onehot__account.PaymentMethod_Bank transfer (automatic)  7032 non-null   int64  \n",
            " 28  onehot__account.PaymentMethod_Credit card (automatic)    7032 non-null   int64  \n",
            " 29  onehot__account.PaymentMethod_Electronic check           7032 non-null   int64  \n",
            " 30  onehot__account.PaymentMethod_Mailed check               7032 non-null   int64  \n",
            " 31  remainder__Churn                                         7032 non-null   int64  \n",
            " 32  remainder__customer.gender                               7032 non-null   int64  \n",
            " 33  remainder__customer.SeniorCitizen                        7032 non-null   int64  \n",
            " 34  remainder__customer.Partner                              7032 non-null   int64  \n",
            " 35  remainder__customer.Dependents                           7032 non-null   int64  \n",
            " 36  remainder__customer.tenure                               7032 non-null   int64  \n",
            " 37  remainder__phone.PhoneService                            7032 non-null   int64  \n",
            " 38  remainder__account.PaperlessBilling                      7032 non-null   int64  \n",
            " 39  remainder__account.Charges.Monthly                       7032 non-null   float64\n",
            " 40  remainder__account.Charges.Total                         7032 non-null   float64\n",
            "dtypes: float64(2), int64(39)\n",
            "memory usage: 2.3 MB\n"
          ]
        }
      ]
    },
    {
      "cell_type": "code",
      "source": [
        "col_float_bin = [\n",
        "  col for col in df_final.columns\n",
        "  if all(val in {0.0, 1.0} for val in df_final[col].unique())\n",
        "]"
      ],
      "metadata": {
        "id": "lpO9qkFx02vF"
      },
      "execution_count": 21,
      "outputs": []
    },
    {
      "cell_type": "code",
      "source": [
        "excessao = ['remainder__account.Charges.Monthly', 'remainder__account.Charges.Total']"
      ],
      "metadata": {
        "id": "qqCiZpc511Sv"
      },
      "execution_count": 22,
      "outputs": []
    },
    {
      "cell_type": "code",
      "source": [
        "df_final = df_final.drop(columns=excessao).astype(int).join(df_final[excessao])"
      ],
      "metadata": {
        "id": "nluzpU-k2kbH"
      },
      "execution_count": 23,
      "outputs": []
    },
    {
      "cell_type": "markdown",
      "source": [
        "## Verificação da Proporção de Evasão"
      ],
      "metadata": {
        "id": "YjRcWPzbBdh9"
      }
    },
    {
      "cell_type": "code",
      "source": [
        "print(df.groupby('Churn').size() / df.shape[0])"
      ],
      "metadata": {
        "id": "vhEE6Eto6GuR",
        "colab": {
          "base_uri": "https://localhost:8080/"
        },
        "outputId": "3680daf9-336d-4e83-a203-06ed88ecd664"
      },
      "execution_count": 24,
      "outputs": [
        {
          "output_type": "stream",
          "name": "stdout",
          "text": [
            "Churn\n",
            "0    0.73463\n",
            "1    0.26537\n",
            "dtype: float64\n"
          ]
        }
      ]
    },
    {
      "cell_type": "markdown",
      "source": [
        "## Balanceamento de Classes"
      ],
      "metadata": {
        "id": "oj-TET2jI0s8"
      }
    },
    {
      "cell_type": "code",
      "source": [
        "from sklearn.model_selection import train_test_split\n",
        "from imblearn.over_sampling import SMOTE\n",
        "from collections import Counter\n",
        "\n",
        "df_final = df_final.dropna()\n",
        "\n",
        "X = df_final.drop('remainder__Churn', axis=1)\n",
        "y = df_final['remainder__Churn']\n",
        "\n",
        "X_train, X_test, y_train, y_test = train_test_split(X, y, test_size=0.3, random_state=42)\n",
        "\n",
        "smote = SMOTE(random_state=42)\n",
        "\n",
        "X_train_res, y_train_res = smote.fit_resample(X_train, y_train)\n",
        "\n",
        "df_train = pd.DataFrame(X_train_res, columns=X.columns)\n",
        "df_train['remainder__Churn'] = y_train_res\n",
        "\n",
        "df_test = pd.DataFrame(X_test, columns=X.columns)\n",
        "df_test['remainder__Churn'] = y_test"
      ],
      "metadata": {
        "id": "vjEN7xcb8KJd"
      },
      "execution_count": 32,
      "outputs": []
    },
    {
      "cell_type": "code",
      "source": [
        "print(Counter(y_train_res), Counter(y_test))"
      ],
      "metadata": {
        "colab": {
          "base_uri": "https://localhost:8080/"
        },
        "id": "X3JP_ZRd9cZ9",
        "outputId": "16c44a35-674c-424e-80c6-2f53c92c595d"
      },
      "execution_count": 35,
      "outputs": [
        {
          "output_type": "stream",
          "name": "stdout",
          "text": [
            "Counter({0: 3609, 1: 3609}) Counter({0: 1554, 1: 556})\n"
          ]
        }
      ]
    },
    {
      "cell_type": "markdown",
      "source": [
        "## Normalização"
      ],
      "metadata": {
        "id": "_U8a-BXG-lyh"
      }
    },
    {
      "cell_type": "code",
      "source": [
        "from sklearn.preprocessing import StandardScaler\n",
        "import pandas as pd\n",
        "\n",
        "numerical_cols = ['remainder__account.Charges.Monthly', 'remainder__account.Charges.Total']\n",
        "\n",
        "df_train_scaled = df_train.copy()\n",
        "df_test_scaled = df_test.copy()\n",
        "\n",
        "scaler = StandardScaler()\n",
        "\n",
        "scaler.fit(df_train_scaled[numerical_cols])\n",
        "\n",
        "df_train_scaled[numerical_cols] = scaler.transform(df_train_scaled[numerical_cols])\n",
        "df_test_scaled[numerical_cols] = scaler.transform(df_test_scaled[numerical_cols])"
      ],
      "metadata": {
        "id": "ssLnXJca9jqM"
      },
      "execution_count": 38,
      "outputs": []
    },
    {
      "cell_type": "code",
      "source": [],
      "metadata": {
        "id": "2O8nmnuUG3LA"
      },
      "execution_count": null,
      "outputs": []
    }
  ]
}